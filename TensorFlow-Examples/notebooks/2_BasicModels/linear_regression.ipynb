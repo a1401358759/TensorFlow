{
 "cells": [
  {
   "cell_type": "markdown",
   "metadata": {},
   "source": [
    "# 线性回归的示例\n",
    "\n",
    "TensorFlow v2库的线性回归实现"
   ]
  },
  {
   "cell_type": "code",
   "execution_count": 1,
   "metadata": {},
   "outputs": [],
   "source": [
    "from __future__ import absolute_import, division, print_function"
   ]
  },
  {
   "cell_type": "code",
   "execution_count": 2,
   "metadata": {},
   "outputs": [],
   "source": [
    "import tensorflow as tf\n",
    "import numpy as np\n",
    "rng = np.random"
   ]
  },
  {
   "cell_type": "code",
   "execution_count": 3,
   "metadata": {},
   "outputs": [],
   "source": [
    "# 定义参数\n",
    "learning_rate = 0.01\n",
    "training_steps = 1000\n",
    "display_step = 50"
   ]
  },
  {
   "cell_type": "code",
   "execution_count": 4,
   "metadata": {},
   "outputs": [],
   "source": [
    "# 训练数据\n",
    "X = np.array([3.3,4.4,5.5,6.71,6.93,4.168,9.779,6.182,7.59,2.167,\n",
    "              7.042,10.791,5.313,7.997,5.654,9.27,3.1])\n",
    "Y = np.array([1.7,2.76,2.09,3.19,1.694,1.573,3.366,2.596,2.53,1.221,\n",
    "              2.827,3.465,1.65,2.904,2.42,2.94,1.3])\n"
   ]
  },
  {
   "cell_type": "code",
   "execution_count": 5,
   "metadata": {},
   "outputs": [],
   "source": [
    "# 权重（weight）和偏差（bias），随机初始化\n",
    "W = tf.Variable(rng.randn(), name=\"weight\")\n",
    "b = tf.Variable(rng.randn(), name=\"bias\")\n",
    "\n",
    "# 线性回归(Wx + b).\n",
    "def linear_regression(x):\n",
    "    return W * x + b\n",
    "\n",
    "\n",
    "def mean_square(y_pred, y_true):\n",
    "    return tf.reduce_mean(tf.square(y_pred - y_true))  # tf.square()是张量对里面的每一个元素求平方\n",
    "\n",
    "# 随机梯度下降优化\n",
    "optimizer = tf.optimizers.SGD(learning_rate)"
   ]
  },
  {
   "cell_type": "code",
   "execution_count": 6,
   "metadata": {},
   "outputs": [],
   "source": [
    "# 优化过程 \n",
    "def run_optimization():\n",
    "    # 在GradientTape内计算，以实现自动微分\n",
    "    with tf.GradientTape() as g:\n",
    "        pred = linear_regression(X)\n",
    "        loss = mean_square(pred, Y)\n",
    "\n",
    "    # 计算梯度\n",
    "    gradients = g.gradient(loss, [W, b])\n",
    "    \n",
    "    # 根据梯度更新W和b\n",
    "    optimizer.apply_gradients(zip(gradients, [W, b]))"
   ]
  },
  {
   "cell_type": "code",
   "execution_count": 7,
   "metadata": {},
   "outputs": [
    {
     "name": "stdout",
     "output_type": "stream",
     "text": [
      "step: 50, loss: 0.153872, W: 0.253145, b: 0.788095\n",
      "step: 100, loss: 0.153869, W: 0.252972, b: 0.789320\n",
      "step: 150, loss: 0.153866, W: 0.252819, b: 0.790405\n",
      "step: 200, loss: 0.153865, W: 0.252684, b: 0.791366\n",
      "step: 250, loss: 0.153863, W: 0.252564, b: 0.792217\n",
      "step: 300, loss: 0.153862, W: 0.252457, b: 0.792970\n",
      "step: 350, loss: 0.153861, W: 0.252363, b: 0.793638\n",
      "step: 400, loss: 0.153860, W: 0.252280, b: 0.794228\n",
      "step: 450, loss: 0.153860, W: 0.252206, b: 0.794752\n",
      "step: 500, loss: 0.153859, W: 0.252141, b: 0.795215\n",
      "step: 550, loss: 0.153859, W: 0.252083, b: 0.795626\n",
      "step: 600, loss: 0.153859, W: 0.252032, b: 0.795989\n",
      "step: 650, loss: 0.153858, W: 0.251986, b: 0.796311\n",
      "step: 700, loss: 0.153858, W: 0.251946, b: 0.796596\n",
      "step: 750, loss: 0.153858, W: 0.251910, b: 0.796848\n",
      "step: 800, loss: 0.153858, W: 0.251879, b: 0.797072\n",
      "step: 850, loss: 0.153858, W: 0.251851, b: 0.797270\n",
      "step: 900, loss: 0.153858, W: 0.251826, b: 0.797445\n",
      "step: 950, loss: 0.153858, W: 0.251804, b: 0.797600\n",
      "step: 1000, loss: 0.153858, W: 0.251785, b: 0.797737\n"
     ]
    }
   ],
   "source": [
    "# 按照给定的步骤数进行训练\n",
    "for step in range(1, training_steps + 1):\n",
    "    # 运行优化以更新W和b值\n",
    "    run_optimization()\n",
    "    \n",
    "    if step % display_step == 0:\n",
    "        pred = linear_regression(X)\n",
    "        loss = mean_square(pred, Y)\n",
    "        print(\"step: %i, loss: %f, W: %f, b: %f\" % (step, loss, W.numpy(), b.numpy()))"
   ]
  },
  {
   "cell_type": "code",
   "execution_count": 8,
   "metadata": {},
   "outputs": [],
   "source": [
    "import matplotlib.pyplot as plt"
   ]
  },
  {
   "cell_type": "code",
   "execution_count": 9,
   "metadata": {},
   "outputs": [
    {
     "data": {
      "image/png": "[encoded data removed]",
      "text/plain": [
       "<Figure size 432x288 with 1 Axes>"
      ]
     },
     "metadata": {
      "needs_background": "light"
     },
     "output_type": "display_data"
    }
   ],
   "source": [
    "# 图形展示\n",
    "plt.plot(X, Y, 'ro', label='Original data')\n",
    "plt.plot(X, np.array(W * X + b), label='Fitted line')\n",
    "plt.legend()\n",
    "plt.show()"
   ]
  }
 ],
 "metadata": {
  "kernelspec": {
   "display_name": "Python 3",
   "language": "python",
   "name": "python3"
  },
  "language_info": {
   "codemirror_mode": {
    "name": "ipython",
    "version": 3
   },
   "file_extension": ".py",
   "mimetype": "text/x-python",
   "name": "python",
   "nbconvert_exporter": "python",
   "pygments_lexer": "ipython3",
   "version": "3.8.2"
  }
 },
 "nbformat": 4,
 "nbformat_minor": 2
}
