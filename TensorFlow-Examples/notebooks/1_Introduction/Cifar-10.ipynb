{
 "cells": [
  {
   "cell_type": "code",
   "execution_count": null,
   "metadata": {},
   "outputs": [],
   "source": [
    "# cifar10数据集包含飞机、汽车、鸟、猫、鹿、狗、青蛙、马、船、卡车共10个类别"
   ]
  },
  {
   "cell_type": "code",
   "execution_count": null,
   "metadata": {},
   "outputs": [],
   "source": [
    "import tensorflow as tf\n",
    "from tensorflow.keras import layers\n",
    "import pandas as pd \n",
    "import numpy as np\n",
    "import matplotlib.pyplot as plt"
   ]
  },
  {
   "cell_type": "code",
   "execution_count": null,
   "metadata": {},
   "outputs": [],
   "source": [
    "# 加载数据集\n",
    "(x_train, y_train),(x_test, y_test) = tf.keras.datasets.cifar10.load_data()"
   ]
  },
  {
   "cell_type": "code",
   "execution_count": null,
   "metadata": {},
   "outputs": [],
   "source": [
    "# 查看图片数量和大小。因为这里的图像已经是彩色图像了，因此第四维的值为3\n",
    "print(len(x_train))\n",
    "print(len(x_test))\n",
    "print(x_train.shape)"
   ]
  },
  {
   "cell_type": "code",
   "execution_count": null,
   "metadata": {},
   "outputs": [],
   "source": [
    "# 查看图片单个点信息。因为是彩色图片，所以单个点的信息包含R、G、B三个颜色通道的值\n",
    "# 第一个[0]代表取50000张图片中的第一张，第二个[0]代表取第一行，第三个[0]代表取第一列\n",
    "x_train[0][0][0] "
   ]
  },
  {
   "cell_type": "code",
   "execution_count": null,
   "metadata": {},
   "outputs": [],
   "source": [
    "# 定义数字对应类别的字典，因为我们训练时的标签是0-9，要映射成对应的类别名称显示\n",
    "label_dict = {0:'airplane',1:'automobile',2:'bird',3:'cat',4:'deer',5:'dog',6:'frog',7:'horse',8:'ship',9:'truck'}"
   ]
  },
  {
   "cell_type": "code",
   "execution_count": null,
   "metadata": {},
   "outputs": [],
   "source": [
    "# 定义显示图片函数并显示图片，该函数和第一节大体一样，有小部分需要修改一下\n",
    "def plot_images_labels_prediction(images, labels, prediction, idx, num=10):\n",
    "    fig = plt.gcf()\n",
    "    fig.set_size_inches(12, 14)\n",
    "    if num > 25: \n",
    "        num = 25\n",
    "    for i in range(0, num):\n",
    "        ax = plt.subplot(5, 5, i + 1)\n",
    "        ax.imshow(images[idx], cmap='binary') \n",
    "        title= str(i) + ' ' + label_dict[labels[i][0]]  # 显示数字对应的类别\n",
    "        if len(prediction) > 0:\n",
    "            title += '=>' + label_dict[prediction[i]]  # 显示数字对应的类别\n",
    "        ax.set_title(title,fontsize=10)\n",
    "        ax.set_xticks([])\n",
    "        ax.set_yticks([])\n",
    "        idx += 1\n",
    "    plt.show()\n",
    "\n",
    "plot_images_labels_prediction(x_train, y_train, [], 0)"
   ]
  },
  {
   "cell_type": "code",
   "execution_count": null,
   "metadata": {},
   "outputs": [],
   "source": [
    "# 数据标准化并查看一个点的值\n",
    "x_train_normalize = x_train.astype('float32') / 255\n",
    "x_test_normalize = x_test.astype('float32') / 255\n",
    "print(x_train_normalize[0][0][0])"
   ]
  },
  {
   "cell_type": "code",
   "execution_count": null,
   "metadata": {},
   "outputs": [],
   "source": [
    "# 对标签进行One-Hot（独热编码）\n",
    "y_train_OneHot = tf.keras.utils.to_categorical(y_train)\n",
    "y_test_OneHot = tf.keras.utils.to_categorical(y_test)"
   ]
  },
  {
   "cell_type": "code",
   "execution_count": null,
   "metadata": {},
   "outputs": [],
   "source": [
    "# 模型搭建，这里搭建3层卷积神经网络提取特征\n",
    "model = tf.keras.models.Sequential()\n",
    "model.add(layers.Conv2D(filters=32,kernel_size=(3,3),padding='same',input_shape=(32,32,3),activation='relu'))\n",
    "model.add(layers.Dropout(0.3))\n",
    "model.add(layers.Conv2D(filters=32,kernel_size=(3,3),padding='same',activation='relu'))\n",
    "model.add(layers.MaxPooling2D(pool_size=(2,2)))\n",
    "model.add(layers.Conv2D(filters=64,kernel_size=(3,3),activation='relu',padding='same'))\n",
    "model.add(layers.Dropout(0.3))\n",
    "model.add(layers.Conv2D(filters=64,kernel_size=(3,3),padding='same',activation='relu'))\n",
    "model.add(layers.MaxPooling2D(pool_size=(2,2)))\n",
    "model.add(layers.Conv2D(filters=128,kernel_size=(3,3),activation='relu',padding='same'))\n",
    "model.add(layers.Dropout(0.3))\n",
    "model.add(layers.Conv2D(filters=128,kernel_size=(3,3),padding='same',activation='relu'))\n",
    "model.add(layers.MaxPooling2D(pool_size=(2,2)))\n",
    "model.add(layers.Flatten())\n",
    "model.add(layers.Dropout(0.3))\n",
    "model.add(layers.Dense(2500,activation='relu'))\n",
    "model.add(layers.Dropout(0.3))\n",
    "model.add(layers.Dense(1500,activation='relu'))\n",
    "model.add(layers.Dropout(0.3))\n",
    "model.add(layers.Dense(10,activation='softmax'))\n",
    "# 打印模型概要\n",
    "print(model.summary())"
   ]
  },
  {
   "cell_type": "code",
   "execution_count": null,
   "metadata": {},
   "outputs": [],
   "source": [
    "# 模型参数设置\n",
    "model.compile(loss='categorical_crossentropy', optimizer='adam', metrics=['accuracy'])"
   ]
  },
  {
   "cell_type": "code",
   "execution_count": null,
   "metadata": {},
   "outputs": [],
   "source": [
    "# 模型训练\n",
    "train_history = model.fit(x_train_normalize, y_train_OneHot, validation_split=0.2, epochs=5, batch_size=128, verbose=1)"
   ]
  },
  {
   "cell_type": "code",
   "execution_count": null,
   "metadata": {},
   "outputs": [],
   "source": [
    "# 定义曲线显示函数并显示\n",
    "def show_train_history(train_history, train, validation):\n",
    "    plt.plot(train_history.history[train])\n",
    "    plt.plot(train_history.history[validation])\n",
    "    plt.title('Train History')\n",
    "    plt.xlabel('epoch')\n",
    "    plt.ylabel(train)\n",
    "    plt.legend(['train','validation'],loc='upper left')\n",
    "\n",
    "show_train_history(train_history, 'accuracy', 'val_accuracy')\n",
    "show_train_history(train_history, 'loss', 'val_loss')"
   ]
  },
  {
   "cell_type": "code",
   "execution_count": null,
   "metadata": {},
   "outputs": [],
   "source": [
    "# 测试机进行测试\n",
    "scores = model.evaluate(x_test_normalize, y_test_OneHot, verbose=2)\n",
    "print(scores[1])"
   ]
  },
  {
   "cell_type": "code",
   "execution_count": null,
   "metadata": {},
   "outputs": [],
   "source": [
    "# 模型预测\n",
    "prediction = model.predict_classes(x_test_normalize)\n",
    "print(prediction)"
   ]
  },
  {
   "cell_type": "code",
   "execution_count": null,
   "metadata": {},
   "outputs": [],
   "source": [
    "# 调用之前定义的plot_images_labels_prediction函数查看具体图片信息和结果\n",
    "plot_images_labels_prediction(x_test, y_test, prediction, 0, 10)"
   ]
  },
  {
   "cell_type": "code",
   "execution_count": null,
   "metadata": {},
   "outputs": [],
   "source": [
    "# keras的model.predict_classes是用于直接预测出类别结果，\n",
    "# 如果我们想知道预测图片分别对应10个类别的概率，我们可以用model.predict来进行查看\n",
    "prediction_probability = model.predict(x_test_normalize)\n",
    "print(prediction_probability[0])"
   ]
  },
  {
   "cell_type": "code",
   "execution_count": null,
   "metadata": {},
   "outputs": [],
   "source": [
    "# 我们可以定义一个展示图片 + 预测概率的函数，方便查看预测概率结果\n",
    "def show_predicted_probability(x, y, prediction, prediction_probability, i):\n",
    "    print(\"label:\", label_dict[y[i][0]], 'predict,', label_dict[prediction[i]])\n",
    "    plt.figure(figsize=(2, 2))\n",
    "    plt.imshow(x[i])\n",
    "    plt.show()\n",
    "    for j in range(10):  # 输出10个类别概率\n",
    "        print(label_dict[j] + 'Probability:%1.9f' % (prediction_probability[i][j]))"
   ]
  },
  {
   "cell_type": "code",
   "execution_count": null,
   "metadata": {},
   "outputs": [],
   "source": [
    "# 模型的保存\n",
    "model.save_weights(\"cifar.h5\")"
   ]
  },
  {
   "cell_type": "code",
   "execution_count": null,
   "metadata": {},
   "outputs": [],
   "source": [
    "# 如果要加载一个已经训练好的模型的参数，则用load_weights进行读取\n",
    "model.load_weights(\"cifar.h5\")"
   ]
  }
 ],
 "metadata": {
  "kernelspec": {
   "display_name": "Python 3",
   "language": "python",
   "name": "python3"
  },
  "language_info": {
   "codemirror_mode": {
    "name": "ipython",
    "version": 3
   },
   "file_extension": ".py",
   "mimetype": "text/x-python",
   "name": "python",
   "nbconvert_exporter": "python",
   "pygments_lexer": "ipython3",
   "version": "3.8.2"
  }
 },
 "nbformat": 4,
 "nbformat_minor": 4
}
